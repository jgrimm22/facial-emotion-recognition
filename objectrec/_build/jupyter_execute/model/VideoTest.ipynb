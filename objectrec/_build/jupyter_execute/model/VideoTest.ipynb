{
 "cells": [
  {
   "cell_type": "markdown",
   "metadata": {},
   "source": [
    "# Selbsttrainiertes Modell per Webcam testen"
   ]
  },
  {
   "cell_type": "code",
   "execution_count": 1,
   "metadata": {},
   "outputs": [],
   "source": [
    "import os\n",
    "import cv2\n",
    "import numpy as np\n",
    "from keras.models import model_from_json\n",
    "\n",
    "from keras.preprocessing import image\n",
    "\n",
    "import sys\n",
    "import argparse\n",
    "import re"
   ]
  },
  {
   "cell_type": "markdown",
   "metadata": {},
   "source": [
    "Funktion für Face Detections, Emotionsklassifizierung und Darstellung"
   ]
  },
  {
   "cell_type": "code",
   "execution_count": 2,
   "metadata": {},
   "outputs": [],
   "source": [
    "def detect_classify_display(frame, model):\n",
    "    emotions = ['angry', 'disgust', 'fear',\n",
    "                'happy', 'sad', 'surprise', 'neutral']\n",
    "    frame_gray = cv2.cvtColor(frame, cv2.COLOR_BGR2GRAY)\n",
    "    faces = face_cascade.detectMultiScale(\n",
    "        frame_gray,\n",
    "        scaleFactor=1.1,\n",
    "        minNeighbors=5,\n",
    "        minSize=(30, 30)\n",
    "    )\n",
    "    for (x, y, w, h) in faces:\n",
    "        face = frame_gray[y:y+h, x:x+w]\n",
    "        face = cv2.resize(face, (48, 48)) / 255\n",
    "        face = np.expand_dims(face, axis=0)\n",
    "        face = np.expand_dims(face, axis=-1)\n",
    "        predictions = model.predict(face)\n",
    "        pred = np.argmax(predictions)\n",
    "        prob = predictions[0, pred] * 100\n",
    "        frame = cv2.rectangle(\n",
    "            frame, (x, y), (x + w, y + h), (255, 255, 255), 4)\n",
    "        cv2.putText(frame, emotions[pred] + f'   {prob:.2f}%',\n",
    "                    (x, y-10), cv2.FONT_HERSHEY_SIMPLEX, 0.9, (255, 255, 255), 3)\n",
    "    cv2.imshow('Emotion recognition', frame)"
   ]
  },
  {
   "cell_type": "markdown",
   "metadata": {},
   "source": [
    "## Modell laden\n",
    "Laden des vortrainierten Modells und der Gewichte"
   ]
  },
  {
   "cell_type": "code",
   "execution_count": 3,
   "metadata": {},
   "outputs": [
    {
     "name": "stdout",
     "output_type": "stream",
     "text": [
      "Loaded model from disk\n"
     ]
    }
   ],
   "source": [
    "json_file = open('fer.json', 'r')\n",
    "loaded_model_json = json_file.read()\n",
    "json_file.close()\n",
    "model = model_from_json(loaded_model_json)\n",
    "# load weights into new model\n",
    "model.load_weights(\"fer.h5\")\n",
    "print(\"Loaded model from disk\")"
   ]
  },
  {
   "cell_type": "markdown",
   "metadata": {},
   "source": [
    "## Face Detection\n",
    "Für die Face Detection wird ein über OpenCV verfügbarer Haar-feature-basierter Cascade Classifier verwendet."
   ]
  },
  {
   "cell_type": "code",
   "execution_count": 4,
   "metadata": {},
   "outputs": [],
   "source": [
    "face_cascade = cv2.CascadeClassifier(\n",
    "    cv2.data.haarcascades + 'haarcascade_frontalface_alt.xml')"
   ]
  },
  {
   "cell_type": "markdown",
   "metadata": {},
   "source": [
    "## FER über die Webcam\n",
    "get the frame from webcam and detect"
   ]
  },
  {
   "cell_type": "code",
   "execution_count": 5,
   "metadata": {},
   "outputs": [
    {
     "ename": "OSError",
     "evalue": "Cannot open webcam",
     "output_type": "error",
     "traceback": [
      "\u001b[0;31m---------------------------------------------------------------------------\u001b[0m",
      "\u001b[0;31mOSError\u001b[0m                                   Traceback (most recent call last)",
      "\u001b[0;32m<ipython-input-5-d930c0b7c2ec>\u001b[0m in \u001b[0;36m<module>\u001b[0;34m\u001b[0m\n\u001b[1;32m      3\u001b[0m \u001b[0;31m# Check if the webcam is opened correctly\u001b[0m\u001b[0;34m\u001b[0m\u001b[0;34m\u001b[0m\u001b[0;34m\u001b[0m\u001b[0m\n\u001b[1;32m      4\u001b[0m \u001b[0;32mif\u001b[0m \u001b[0;32mnot\u001b[0m \u001b[0mcap\u001b[0m\u001b[0;34m.\u001b[0m\u001b[0misOpened\u001b[0m\u001b[0;34m(\u001b[0m\u001b[0;34m)\u001b[0m\u001b[0;34m:\u001b[0m\u001b[0;34m\u001b[0m\u001b[0;34m\u001b[0m\u001b[0m\n\u001b[0;32m----> 5\u001b[0;31m     \u001b[0;32mraise\u001b[0m \u001b[0mIOError\u001b[0m\u001b[0;34m(\u001b[0m\u001b[0;34m\"Cannot open webcam\"\u001b[0m\u001b[0;34m)\u001b[0m\u001b[0;34m\u001b[0m\u001b[0;34m\u001b[0m\u001b[0m\n\u001b[0m\u001b[1;32m      6\u001b[0m \u001b[0;34m\u001b[0m\u001b[0m\n\u001b[1;32m      7\u001b[0m \u001b[0;32mwhile\u001b[0m \u001b[0;32mTrue\u001b[0m\u001b[0;34m:\u001b[0m\u001b[0;34m\u001b[0m\u001b[0;34m\u001b[0m\u001b[0m\n",
      "\u001b[0;31mOSError\u001b[0m: Cannot open webcam"
     ]
    }
   ],
   "source": [
    "cap = cv2.VideoCapture(1)\n",
    "\n",
    "# Check if the webcam is opened correctly\n",
    "if not cap.isOpened():\n",
    "    raise IOError(\"Cannot open webcam\")\n",
    "\n",
    "while True:\n",
    "    ret, frame = cap.read()\n",
    "    frame = cv2.resize(frame, None, fx=0.5, fy=0.5, interpolation=cv2.INTER_AREA)\n",
    "    cv2.imshow('Input', frame)\n",
    "    detect_classify_display(frame, model)\n",
    "    c = cv2.waitKey(1)\n",
    "    if cv2.waitKey(0) & 0xff == ord('q'): # press q to exit\n",
    "        cv2.destroyAllWindows()\n",
    "        break\n",
    "        \n"
   ]
  },
  {
   "cell_type": "markdown",
   "metadata": {},
   "source": [
    "## Fazit \n",
    "\n",
    "<img src=\"../images/test/test.gif\" width=\"500\" align=\"center\">\n",
    "\n",
    "* Das Netzwerk tendiert stark zur neutralen Klasse, auch bei ausgeprägter Mimik \n",
    "* Anger und Disgust sind am schwersten nachzustellen, sodass das Modell diese erkennt\n",
    "* Generell reagiert das Netz ausschließlich auf sehr ausgeprägte Mimik, was vermutlich an dem FER2013 Dataset liegt\n",
    "* Eine relativ grobe Emotionserkennung wird bereits durch dieses recht einfache Modell bewältigt, aber eine feinere Emotionserkennung ist auf Basis dieses Datensatzes und des Netzes eher schwer zu realisieren"
   ]
  },
  {
   "cell_type": "code",
   "execution_count": null,
   "metadata": {},
   "outputs": [],
   "source": []
  }
 ],
 "metadata": {
  "kernelspec": {
   "display_name": "Python 3",
   "language": "python",
   "name": "python3"
  },
  "language_info": {
   "codemirror_mode": {
    "name": "ipython",
    "version": 3
   },
   "file_extension": ".py",
   "mimetype": "text/x-python",
   "name": "python",
   "nbconvert_exporter": "python",
   "pygments_lexer": "ipython3",
   "version": "3.8.8"
  }
 },
 "nbformat": 4,
 "nbformat_minor": 2
}
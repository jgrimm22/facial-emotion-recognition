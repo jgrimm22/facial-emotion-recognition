{
 "cells": [
  {
   "cell_type": "markdown",
   "metadata": {},
   "source": [
    "# Implementation\n",
    "\n",
    "Beispielimplementation FER mithilfe eines CNN\n",
    "Basierend auf https://github.com/gitshanks/fer2013"
   ]
  },
  {
   "cell_type": "code",
   "execution_count": 2,
   "metadata": {},
   "outputs": [
    {
     "name": "stderr",
     "output_type": "stream",
     "text": [
      "Using TensorFlow backend.\n"
     ]
    }
   ],
   "source": [
    "import sys, os\n",
    "import pandas as pd\n",
    "import numpy as np\n",
    "import itertools\n",
    "from sklearn.model_selection import train_test_split\n",
    "from sklearn.metrics import confusion_matrix\n",
    "from keras.models import Sequential\n",
    "from keras.models import model_from_json\n",
    "from keras.layers import Dense, Dropout, Activation, Flatten\n",
    "from keras.layers import Conv2D, MaxPooling2D, BatchNormalization\n",
    "from keras.losses import categorical_crossentropy\n",
    "from keras.optimizers import Adam\n",
    "from keras.regularizers import l2\n",
    "import matplotlib.pyplot as plt\n",
    "import warnings\n",
    "warnings.filterwarnings(\"ignore\")"
   ]
  },
  {
   "cell_type": "markdown",
   "metadata": {},
   "source": [
    "### Daten laden\n",
    "\n",
    "In diesem Abschnitt werden die Daten und Labels des FER2013 Datensatz aus einer .csv Datei geladen und vorverarbeitet."
   ]
  },
  {
   "cell_type": "code",
   "execution_count": 4,
   "metadata": {},
   "outputs": [],
   "source": [
    "data = pd.read_csv('data/fer2013.csv')"
   ]
  },
  {
   "cell_type": "code",
   "execution_count": 5,
   "metadata": {},
   "outputs": [
    {
     "name": "stdout",
     "output_type": "stream",
     "text": [
      "Preprocessing Done\n",
      "Number of Features: 48\n",
      "Number of Labels: 7\n",
      "Number of examples in dataset:35887\n"
     ]
    }
   ],
   "source": [
    "width, height = 48, 48\n",
    "\n",
    "datapoints = data['pixels'].tolist()\n",
    "\n",
    "#getting features for training\n",
    "X = []\n",
    "for xseq in datapoints:\n",
    "    xx = [int(xp) for xp in xseq.split(' ')]\n",
    "    xx = np.asarray(xx).reshape(width, height)\n",
    "    X.append(xx.astype('float32'))\n",
    "\n",
    "X = np.asarray(X)\n",
    "X = np.expand_dims(X, -1)\n",
    "\n",
    "#getting labels for training\n",
    "y = pd.get_dummies(data['emotion']).values\n",
    "\n",
    "#data normalization\n",
    "X -= np.mean(X, axis=0)\n",
    "X /= np.std(X, axis=0)\n",
    "\n",
    "print(\"Preprocessing Done\")\n",
    "print(\"Number of Features: \"+str(len(X[0])))\n",
    "print(\"Number of Labels: \"+ str(len(y[0])))\n",
    "print(\"Number of examples in dataset:\"+str(len(X)))"
   ]
  },
  {
   "cell_type": "markdown",
   "metadata": {},
   "source": [
    "### Daten aufteilen\n",
    "\n",
    "Hier werden die Daten in Train, Test und Validierungsdaten aufgeteilt und die Testdaten für später gespeichert."
   ]
  },
  {
   "cell_type": "code",
   "execution_count": 6,
   "metadata": {},
   "outputs": [],
   "source": [
    "#splitting into training, validation and testing data\n",
    "X_train, X_test, y_train, y_test = train_test_split(X, y, test_size=0.1, random_state=42)\n",
    "X_train, X_valid, y_train, y_valid = train_test_split(X_train, y_train, test_size=0.1, random_state=41)\n",
    "\n",
    "#saving the test samples to be used later\n",
    "np.save('modXtest', X_test)\n",
    "np.save('modytest', y_test)"
   ]
  },
  {
   "cell_type": "markdown",
   "metadata": {},
   "source": [
    "### Modell definieren"
   ]
  },
  {
   "cell_type": "markdown",
   "metadata": {},
   "source": [
    "<img src=\"../images/ownModel.jpg\">"
   ]
  },
  {
   "cell_type": "code",
   "execution_count": 7,
   "metadata": {},
   "outputs": [],
   "source": [
    "num_features = 64\n",
    "num_labels = 7\n",
    "batch_size = 64\n",
    "epochs = 100\n",
    "width, height = 48, 48"
   ]
  },
  {
   "cell_type": "code",
   "execution_count": 8,
   "metadata": {},
   "outputs": [
    {
     "name": "stdout",
     "output_type": "stream",
     "text": [
      "WARNING:tensorflow:From /home/jh275/anaconda3/envs/matterport/lib/python3.7/site-packages/tensorflow_core/python/ops/resource_variable_ops.py:1630: calling BaseResourceVariable.__init__ (from tensorflow.python.ops.resource_variable_ops) with constraint is deprecated and will be removed in a future version.\n",
      "Instructions for updating:\n",
      "If using Keras pass *_constraint arguments to layers.\n",
      "WARNING:tensorflow:From /home/jh275/anaconda3/envs/matterport/lib/python3.7/site-packages/keras/backend/tensorflow_backend.py:4070: The name tf.nn.max_pool is deprecated. Please use tf.nn.max_pool2d instead.\n",
      "\n"
     ]
    }
   ],
   "source": [
    "#desinging the CNN\n",
    "model = Sequential()\n",
    "\n",
    "model.add(Conv2D(num_features, kernel_size=(3, 3), activation='relu', input_shape=(width, height, 1), data_format='channels_last', kernel_regularizer=l2(0.01)))\n",
    "model.add(Conv2D(num_features, kernel_size=(3, 3), activation='relu', padding='same'))\n",
    "model.add(BatchNormalization())\n",
    "model.add(MaxPooling2D(pool_size=(2, 2), strides=(2, 2)))\n",
    "model.add(Dropout(0.5))\n",
    "\n",
    "model.add(Conv2D(2*num_features, kernel_size=(3, 3), activation='relu', padding='same'))\n",
    "model.add(BatchNormalization())\n",
    "model.add(Conv2D(2*num_features, kernel_size=(3, 3), activation='relu', padding='same'))\n",
    "model.add(BatchNormalization())\n",
    "model.add(MaxPooling2D(pool_size=(2, 2), strides=(2, 2)))\n",
    "model.add(Dropout(0.5))\n",
    "\n",
    "model.add(Conv2D(2*2*num_features, kernel_size=(3, 3), activation='relu', padding='same'))\n",
    "model.add(BatchNormalization())\n",
    "model.add(Conv2D(2*2*num_features, kernel_size=(3, 3), activation='relu', padding='same'))\n",
    "model.add(BatchNormalization())\n",
    "model.add(MaxPooling2D(pool_size=(2, 2), strides=(2, 2)))\n",
    "model.add(Dropout(0.5))\n",
    "\n",
    "model.add(Conv2D(2*2*2*num_features, kernel_size=(3, 3), activation='relu', padding='same'))\n",
    "model.add(BatchNormalization())\n",
    "model.add(Conv2D(2*2*2*num_features, kernel_size=(3, 3), activation='relu', padding='same'))\n",
    "model.add(BatchNormalization())\n",
    "model.add(MaxPooling2D(pool_size=(2, 2), strides=(2, 2)))\n",
    "model.add(Dropout(0.5))\n",
    "\n",
    "model.add(Flatten())\n",
    "\n",
    "model.add(Dense(2*2*2*num_features, activation='relu'))\n",
    "model.add(Dropout(0.4))\n",
    "model.add(Dense(2*2*num_features, activation='relu'))\n",
    "model.add(Dropout(0.4))\n",
    "model.add(Dense(2*num_features, activation='relu'))\n",
    "model.add(Dropout(0.5))\n",
    "\n",
    "model.add(Dense(num_labels, activation='softmax'))\n",
    "\n",
    "#model.summary()"
   ]
  },
  {
   "cell_type": "markdown",
   "metadata": {},
   "source": [
    "### Modell trainieren"
   ]
  },
  {
   "cell_type": "code",
   "execution_count": 9,
   "metadata": {},
   "outputs": [],
   "source": [
    "#Compliling the model with adam optimixer and categorical crossentropy loss\n",
    "model.compile(loss=categorical_crossentropy,\n",
    "              optimizer=Adam(lr=0.001, beta_1=0.9, beta_2=0.999, epsilon=1e-7),\n",
    "              metrics=['accuracy'])"
   ]
  },
  {
   "cell_type": "code",
   "execution_count": 10,
   "metadata": {},
   "outputs": [
    {
     "name": "stdout",
     "output_type": "stream",
     "text": [
      "WARNING:tensorflow:From /home/jh275/anaconda3/envs/matterport/lib/python3.7/site-packages/keras/backend/tensorflow_backend.py:422: The name tf.global_variables is deprecated. Please use tf.compat.v1.global_variables instead.\n",
      "\n",
      "Train on 29068 samples, validate on 3230 samples\n",
      "Epoch 1/100\n",
      "29068/29068 [==============================] - 17s 573us/step - loss: 1.9859 - accuracy: 0.2133 - val_loss: 1.8271 - val_accuracy: 0.2594\n",
      "Epoch 2/100\n",
      "29068/29068 [==============================] - 15s 499us/step - loss: 1.8312 - accuracy: 0.2459 - val_loss: 1.8081 - val_accuracy: 0.2616\n",
      "Epoch 3/100\n",
      "29068/29068 [==============================] - 15s 503us/step - loss: 1.7654 - accuracy: 0.2820 - val_loss: 1.7208 - val_accuracy: 0.3022\n",
      "Epoch 4/100\n",
      "29068/29068 [==============================] - 15s 533us/step - loss: 1.6388 - accuracy: 0.3501 - val_loss: 1.5385 - val_accuracy: 0.4025\n",
      "Epoch 5/100\n",
      "29068/29068 [==============================] - 16s 535us/step - loss: 1.5315 - accuracy: 0.4069 - val_loss: 1.4257 - val_accuracy: 0.4384\n",
      "Epoch 6/100\n",
      "29068/29068 [==============================] - 15s 514us/step - loss: 1.4654 - accuracy: 0.4344 - val_loss: 1.3449 - val_accuracy: 0.4789\n",
      "Epoch 7/100\n",
      "29068/29068 [==============================] - 16s 540us/step - loss: 1.4075 - accuracy: 0.4570 - val_loss: 1.3001 - val_accuracy: 0.4941\n",
      "Epoch 8/100\n",
      "29068/29068 [==============================] - 16s 545us/step - loss: 1.3739 - accuracy: 0.4753 - val_loss: 1.2503 - val_accuracy: 0.5235\n",
      "Epoch 9/100\n",
      "29068/29068 [==============================] - 16s 549us/step - loss: 1.3343 - accuracy: 0.4960 - val_loss: 1.2543 - val_accuracy: 0.5124\n",
      "Epoch 10/100\n",
      "29068/29068 [==============================] - 15s 530us/step - loss: 1.3042 - accuracy: 0.5098 - val_loss: 1.2365 - val_accuracy: 0.5300\n",
      "Epoch 11/100\n",
      "29068/29068 [==============================] - 16s 556us/step - loss: 1.2820 - accuracy: 0.5148 - val_loss: 1.1802 - val_accuracy: 0.5464\n",
      "Epoch 12/100\n",
      "29068/29068 [==============================] - 16s 555us/step - loss: 1.2572 - accuracy: 0.5282 - val_loss: 1.1446 - val_accuracy: 0.5650\n",
      "Epoch 13/100\n",
      "29068/29068 [==============================] - 16s 549us/step - loss: 1.2323 - accuracy: 0.5374 - val_loss: 1.1449 - val_accuracy: 0.5669\n",
      "Epoch 14/100\n",
      "29068/29068 [==============================] - 16s 544us/step - loss: 1.2102 - accuracy: 0.5485 - val_loss: 1.1264 - val_accuracy: 0.5796\n",
      "Epoch 15/100\n",
      "29068/29068 [==============================] - 16s 543us/step - loss: 1.1913 - accuracy: 0.5559 - val_loss: 1.1341 - val_accuracy: 0.5728\n",
      "Epoch 16/100\n",
      "29068/29068 [==============================] - 16s 544us/step - loss: 1.1655 - accuracy: 0.5669 - val_loss: 1.1105 - val_accuracy: 0.5997\n",
      "Epoch 17/100\n",
      "29068/29068 [==============================] - 16s 555us/step - loss: 1.1414 - accuracy: 0.5831 - val_loss: 1.1002 - val_accuracy: 0.5954ss: 1\n",
      "Epoch 18/100\n",
      "29068/29068 [==============================] - 16s 548us/step - loss: 1.1247 - accuracy: 0.5903 - val_loss: 1.0881 - val_accuracy: 0.5957\n",
      "Epoch 19/100\n",
      "29068/29068 [==============================] - 16s 555us/step - loss: 1.0992 - accuracy: 0.6018 - val_loss: 1.0756 - val_accuracy: 0.6102\n",
      "Epoch 20/100\n",
      "29068/29068 [==============================] - 16s 536us/step - loss: 1.0767 - accuracy: 0.6071 - val_loss: 1.0814 - val_accuracy: 0.6015\n",
      "Epoch 21/100\n",
      "29068/29068 [==============================] - 16s 553us/step - loss: 1.0576 - accuracy: 0.6166 - val_loss: 1.0574 - val_accuracy: 0.6158\n",
      "Epoch 22/100\n",
      "29068/29068 [==============================] - 16s 553us/step - loss: 1.0281 - accuracy: 0.6246 - val_loss: 1.0496 - val_accuracy: 0.6217\n",
      "Epoch 23/100\n",
      "29068/29068 [==============================] - 16s 555us/step - loss: 1.0118 - accuracy: 0.6371 - val_loss: 1.0500 - val_accuracy: 0.6251\n",
      "Epoch 24/100\n",
      "29068/29068 [==============================] - 16s 554us/step - loss: 1.0012 - accuracy: 0.6383 - val_loss: 1.0352 - val_accuracy: 0.6192\n",
      "Epoch 25/100\n",
      "29068/29068 [==============================] - 16s 550us/step - loss: 0.9743 - accuracy: 0.6476 - val_loss: 1.0145 - val_accuracy: 0.6334\n",
      "Epoch 26/100\n",
      "29068/29068 [==============================] - 16s 555us/step - loss: 0.9594 - accuracy: 0.6558 - val_loss: 1.0335 - val_accuracy: 0.6381\n",
      "Epoch 27/100\n",
      "29068/29068 [==============================] - 16s 555us/step - loss: 0.9404 - accuracy: 0.6605 - val_loss: 1.0604 - val_accuracy: 0.6331\n",
      "Epoch 28/100\n",
      "29068/29068 [==============================] - 16s 555us/step - loss: 0.9249 - accuracy: 0.6710 - val_loss: 1.0147 - val_accuracy: 0.6402\n",
      "Epoch 29/100\n",
      "29068/29068 [==============================] - 15s 533us/step - loss: 0.9018 - accuracy: 0.6756 - val_loss: 1.0157 - val_accuracy: 0.6412\n",
      "Epoch 30/100\n",
      "29068/29068 [==============================] - 16s 557us/step - loss: 0.8818 - accuracy: 0.6855 - val_loss: 0.9909 - val_accuracy: 0.6474\n",
      "Epoch 31/100\n",
      "29068/29068 [==============================] - 16s 548us/step - loss: 0.8662 - accuracy: 0.6861 - val_loss: 1.0033 - val_accuracy: 0.6483\n",
      "Epoch 32/100\n",
      "29068/29068 [==============================] - 16s 557us/step - loss: 0.8523 - accuracy: 0.6972 - val_loss: 1.0042 - val_accuracy: 0.6458\n",
      "Epoch 33/100\n",
      "29068/29068 [==============================] - 16s 547us/step - loss: 0.8299 - accuracy: 0.7029 - val_loss: 0.9896 - val_accuracy: 0.6415uracy: 0.\n",
      "Epoch 34/100\n",
      "29068/29068 [==============================] - 16s 552us/step - loss: 0.8214 - accuracy: 0.7072 - val_loss: 0.9913 - val_accuracy: 0.6573\n",
      "Epoch 35/100\n",
      "29068/29068 [==============================] - 16s 547us/step - loss: 0.8049 - accuracy: 0.7146 - val_loss: 0.9850 - val_accuracy: 0.6526\n",
      "Epoch 36/100\n",
      "29068/29068 [==============================] - 16s 553us/step - loss: 0.7807 - accuracy: 0.7196 - val_loss: 1.0330 - val_accuracy: 0.6567\n",
      "Epoch 37/100\n",
      "29068/29068 [==============================] - 16s 553us/step - loss: 0.7698 - accuracy: 0.7273 - val_loss: 1.0231 - val_accuracy: 0.6502\n",
      "Epoch 38/100\n",
      "29068/29068 [==============================] - 16s 556us/step - loss: 0.7540 - accuracy: 0.7335 - val_loss: 1.0408 - val_accuracy: 0.6492\n",
      "Epoch 39/100\n",
      "29068/29068 [==============================] - 16s 553us/step - loss: 0.7369 - accuracy: 0.7379 - val_loss: 1.0609 - val_accuracy: 0.6523\n",
      "Epoch 40/100\n",
      "29068/29068 [==============================] - 16s 551us/step - loss: 0.7285 - accuracy: 0.7455 - val_loss: 1.0298 - val_accuracy: 0.6588\n",
      "Epoch 41/100\n",
      "29068/29068 [==============================] - 16s 552us/step - loss: 0.7078 - accuracy: 0.7501 - val_loss: 1.0534 - val_accuracy: 0.6576\n",
      "Epoch 42/100\n",
      "29068/29068 [==============================] - 16s 554us/step - loss: 0.6940 - accuracy: 0.7556 - val_loss: 1.0557 - val_accuracy: 0.6650\n",
      "Epoch 43/100\n",
      "29068/29068 [==============================] - 16s 555us/step - loss: 0.6853 - accuracy: 0.7579 - val_loss: 1.0838 - val_accuracy: 0.6517\n",
      "Epoch 44/100\n",
      "29068/29068 [==============================] - 16s 545us/step - loss: 0.6777 - accuracy: 0.7651 - val_loss: 1.0893 - val_accuracy: 0.6601\n",
      "Epoch 45/100\n",
      "29068/29068 [==============================] - 16s 553us/step - loss: 0.6632 - accuracy: 0.7704 - val_loss: 1.0955 - val_accuracy: 0.6567\n",
      "Epoch 46/100\n",
      "29068/29068 [==============================] - 16s 552us/step - loss: 0.6484 - accuracy: 0.7715 - val_loss: 1.0742 - val_accuracy: 0.6563\n",
      "Epoch 47/100\n",
      "29068/29068 [==============================] - 16s 555us/step - loss: 0.6359 - accuracy: 0.7789 - val_loss: 1.0907 - val_accuracy: 0.6628\n",
      "Epoch 48/100\n",
      "29068/29068 [==============================] - 16s 556us/step - loss: 0.6296 - accuracy: 0.7821 - val_loss: 1.0694 - val_accuracy: 0.6663\n",
      "Epoch 49/100\n",
      "29068/29068 [==============================] - 16s 555us/step - loss: 0.6196 - accuracy: 0.7874 - val_loss: 1.0493 - val_accuracy: 0.6687\n",
      "Epoch 50/100\n",
      "29068/29068 [==============================] - 16s 555us/step - loss: 0.6082 - accuracy: 0.7932 - val_loss: 1.0703 - val_accuracy: 0.6622\n",
      "Epoch 51/100\n",
      "29068/29068 [==============================] - 16s 556us/step - loss: 0.5967 - accuracy: 0.7972 - val_loss: 1.0742 - val_accuracy: 0.6681\n",
      "Epoch 52/100\n",
      "29068/29068 [==============================] - 16s 558us/step - loss: 0.5761 - accuracy: 0.8020 - val_loss: 1.0736 - val_accuracy: 0.6641\n",
      "Epoch 53/100\n",
      "29068/29068 [==============================] - 16s 554us/step - loss: 0.5720 - accuracy: 0.8052 - val_loss: 1.1202 - val_accuracy: 0.6666\n",
      "Epoch 54/100\n",
      "29068/29068 [==============================] - 16s 555us/step - loss: 0.5669 - accuracy: 0.8048 - val_loss: 1.1161 - val_accuracy: 0.6607\n",
      "Epoch 55/100\n",
      "29068/29068 [==============================] - 16s 552us/step - loss: 0.5470 - accuracy: 0.8134 - val_loss: 1.1195 - val_accuracy: 0.6749\n",
      "Epoch 56/100\n",
      "29068/29068 [==============================] - 16s 552us/step - loss: 0.5418 - accuracy: 0.8176 - val_loss: 1.1947 - val_accuracy: 0.6749\n",
      "Epoch 57/100\n",
      "29068/29068 [==============================] - 16s 559us/step - loss: 0.5310 - accuracy: 0.8204 - val_loss: 1.1357 - val_accuracy: 0.6663\n",
      "Epoch 58/100\n",
      "29068/29068 [==============================] - 16s 550us/step - loss: 0.5295 - accuracy: 0.8205 - val_loss: 1.1116 - val_accuracy: 0.6721\n",
      "Epoch 59/100\n",
      "29068/29068 [==============================] - 16s 556us/step - loss: 0.5183 - accuracy: 0.8235 - val_loss: 1.1347 - val_accuracy: 0.6697\n",
      "Epoch 60/100\n",
      "29068/29068 [==============================] - 16s 550us/step - loss: 0.5101 - accuracy: 0.8288 - val_loss: 1.1133 - val_accuracy: 0.6706\n",
      "Epoch 61/100\n",
      "29068/29068 [==============================] - 15s 529us/step - loss: 0.4927 - accuracy: 0.8350 - val_loss: 1.1275 - val_accuracy: 0.6663\n",
      "Epoch 62/100\n",
      "29068/29068 [==============================] - 15s 528us/step - loss: 0.4869 - accuracy: 0.8382 - val_loss: 1.1522 - val_accuracy: 0.6728\n",
      "Epoch 63/100\n",
      "29068/29068 [==============================] - 16s 543us/step - loss: 0.4814 - accuracy: 0.8370 - val_loss: 1.1664 - val_accuracy: 0.6734\n",
      "Epoch 64/100\n",
      "29068/29068 [==============================] - 16s 551us/step - loss: 0.4712 - accuracy: 0.8415 - val_loss: 1.1616 - val_accuracy: 0.6687\n",
      "Epoch 65/100\n",
      "29068/29068 [==============================] - 16s 550us/step - loss: 0.4640 - accuracy: 0.8476 - val_loss: 1.1591 - val_accuracy: 0.6721\n",
      "Epoch 66/100\n",
      "29068/29068 [==============================] - 16s 552us/step - loss: 0.4482 - accuracy: 0.8500 - val_loss: 1.2533 - val_accuracy: 0.6715\n",
      "Epoch 67/100\n",
      "29068/29068 [==============================] - 16s 557us/step - loss: 0.4549 - accuracy: 0.8511 - val_loss: 1.1381 - val_accuracy: 0.6845\n",
      "Epoch 68/100\n",
      "29068/29068 [==============================] - 16s 554us/step - loss: 0.4472 - accuracy: 0.8526 - val_loss: 1.2276 - val_accuracy: 0.6681\n",
      "Epoch 69/100\n",
      "29068/29068 [==============================] - 16s 554us/step - loss: 0.4406 - accuracy: 0.8550 - val_loss: 1.0978 - val_accuracy: 0.6749\n",
      "Epoch 70/100\n",
      "29068/29068 [==============================] - 16s 550us/step - loss: 0.4347 - accuracy: 0.8560 - val_loss: 1.2091 - val_accuracy: 0.6768\n",
      "Epoch 71/100\n",
      "29068/29068 [==============================] - 16s 555us/step - loss: 0.4322 - accuracy: 0.8598 - val_loss: 1.2131 - val_accuracy: 0.6734\n",
      "Epoch 72/100\n",
      "29068/29068 [==============================] - 16s 553us/step - loss: 0.4138 - accuracy: 0.8666 - val_loss: 1.2282 - val_accuracy: 0.6703\n",
      "Epoch 73/100\n",
      "29068/29068 [==============================] - 16s 553us/step - loss: 0.4018 - accuracy: 0.8673 - val_loss: 1.1906 - val_accuracy: 0.6768\n",
      "Epoch 74/100\n",
      "29068/29068 [==============================] - 16s 555us/step - loss: 0.4006 - accuracy: 0.8700 - val_loss: 1.2685 - val_accuracy: 0.6712\n",
      "Epoch 75/100\n",
      "29068/29068 [==============================] - 16s 554us/step - loss: 0.3859 - accuracy: 0.8742 - val_loss: 1.2888 - val_accuracy: 0.6669\n",
      "Epoch 76/100\n",
      "29068/29068 [==============================] - 16s 547us/step - loss: 0.3906 - accuracy: 0.8703 - val_loss: 1.1981 - val_accuracy: 0.6737\n",
      "Epoch 77/100\n",
      "29068/29068 [==============================] - 16s 543us/step - loss: 0.3817 - accuracy: 0.8755 - val_loss: 1.3098 - val_accuracy: 0.6768\n",
      "Epoch 78/100\n",
      "29068/29068 [==============================] - 16s 558us/step - loss: 0.3722 - accuracy: 0.8769 - val_loss: 1.2980 - val_accuracy: 0.6783\n",
      "Epoch 79/100\n",
      "29068/29068 [==============================] - 16s 552us/step - loss: 0.3706 - accuracy: 0.8803 - val_loss: 1.3435 - val_accuracy: 0.6721\n",
      "Epoch 80/100\n",
      "29068/29068 [==============================] - 16s 551us/step - loss: 0.3671 - accuracy: 0.8801 - val_loss: 1.3179 - val_accuracy: 0.6709\n",
      "Epoch 81/100\n",
      "29068/29068 [==============================] - 16s 556us/step - loss: 0.3648 - accuracy: 0.8819 - val_loss: 1.2609 - val_accuracy: 0.6718\n",
      "Epoch 82/100\n",
      "29068/29068 [==============================] - 16s 552us/step - loss: 0.3691 - accuracy: 0.8812 - val_loss: 1.2705 - val_accuracy: 0.6752\n",
      "Epoch 83/100\n",
      "29068/29068 [==============================] - 16s 556us/step - loss: 0.3666 - accuracy: 0.8840 - val_loss: 1.2251 - val_accuracy: 0.6721\n",
      "Epoch 84/100\n",
      "29068/29068 [==============================] - 16s 554us/step - loss: 0.3462 - accuracy: 0.8880 - val_loss: 1.3033 - val_accuracy: 0.6737\n",
      "Epoch 85/100\n",
      "29068/29068 [==============================] - 16s 555us/step - loss: 0.3432 - accuracy: 0.8916 - val_loss: 1.3546 - val_accuracy: 0.6830\n",
      "Epoch 86/100\n",
      "29068/29068 [==============================] - 16s 550us/step - loss: 0.3416 - accuracy: 0.8938 - val_loss: 1.2883 - val_accuracy: 0.6659\n",
      "Epoch 87/100\n",
      "29068/29068 [==============================] - 16s 552us/step - loss: 0.3295 - accuracy: 0.8960 - val_loss: 1.3755 - val_accuracy: 0.6598\n",
      "Epoch 88/100\n",
      "29068/29068 [==============================] - 16s 558us/step - loss: 0.3287 - accuracy: 0.8957 - val_loss: 1.3392 - val_accuracy: 0.6681\n",
      "Epoch 89/100\n",
      "29068/29068 [==============================] - 16s 553us/step - loss: 0.3222 - accuracy: 0.8967 - val_loss: 1.3773 - val_accuracy: 0.6718\n",
      "Epoch 90/100\n",
      "29068/29068 [==============================] - 16s 556us/step - loss: 0.3262 - accuracy: 0.8955 - val_loss: 1.2527 - val_accuracy: 0.6765\n",
      "Epoch 91/100\n",
      "29068/29068 [==============================] - 16s 557us/step - loss: 0.3216 - accuracy: 0.8967 - val_loss: 1.3114 - val_accuracy: 0.6659\n",
      "Epoch 92/100\n",
      "29068/29068 [==============================] - 16s 555us/step - loss: 0.3122 - accuracy: 0.9013 - val_loss: 1.4067 - val_accuracy: 0.6752\n",
      "Epoch 93/100\n",
      "29068/29068 [==============================] - 16s 555us/step - loss: 0.3121 - accuracy: 0.9020 - val_loss: 1.3723 - val_accuracy: 0.6697\n",
      "Epoch 94/100\n",
      "29068/29068 [==============================] - 16s 553us/step - loss: 0.3052 - accuracy: 0.9035 - val_loss: 1.3329 - val_accuracy: 0.6712\n",
      "Epoch 95/100\n",
      "29068/29068 [==============================] - 16s 556us/step - loss: 0.3130 - accuracy: 0.9019 - val_loss: 1.3798 - val_accuracy: 0.6737\n",
      "Epoch 96/100\n",
      "29068/29068 [==============================] - 16s 555us/step - loss: 0.2925 - accuracy: 0.9085 - val_loss: 1.3849 - val_accuracy: 0.6755\n",
      "Epoch 97/100\n",
      "29068/29068 [==============================] - 16s 544us/step - loss: 0.3084 - accuracy: 0.9044 - val_loss: 1.5044 - val_accuracy: 0.6762\n",
      "Epoch 98/100\n",
      "29068/29068 [==============================] - 16s 559us/step - loss: 0.3033 - accuracy: 0.9052 - val_loss: 1.3532 - val_accuracy: 0.6681\n",
      "Epoch 99/100\n",
      "29068/29068 [==============================] - 16s 555us/step - loss: 0.2967 - accuracy: 0.9068 - val_loss: 1.4557 - val_accuracy: 0.6721\n",
      "Epoch 100/100\n",
      "29068/29068 [==============================] - 16s 555us/step - loss: 0.2999 - accuracy: 0.9058 - val_loss: 1.4230 - val_accuracy: 0.6697\n"
     ]
    },
    {
     "data": {
      "text/plain": [
       "<keras.callbacks.callbacks.History at 0x7f589c68b690>"
      ]
     },
     "execution_count": 10,
     "metadata": {},
     "output_type": "execute_result"
    }
   ],
   "source": [
    "#training the model\n",
    "model.fit(np.array(X_train), np.array(y_train),\n",
    "          batch_size=batch_size,\n",
    "          epochs=epochs,\n",
    "          verbose=1,\n",
    "          validation_data=(np.array(X_valid), np.array(y_valid)),\n",
    "          shuffle=True)"
   ]
  },
  {
   "cell_type": "code",
   "execution_count": 11,
   "metadata": {},
   "outputs": [
    {
     "name": "stdout",
     "output_type": "stream",
     "text": [
      "Saved model to disk\n"
     ]
    }
   ],
   "source": [
    "#saving the  model to be used later\n",
    "fer_json = model.to_json()\n",
    "with open(\"fer.json\", \"w\") as json_file:\n",
    "    json_file.write(fer_json)\n",
    "model.save_weights(\"fer.h5\")\n",
    "print(\"Saved model to disk\")"
   ]
  },
  {
   "cell_type": "markdown",
   "metadata": {},
   "source": [
    "### Trainiertes Modell laden\n",
    "\n",
    "In diesem Abschnitt wird das traniierte Modell geladen und die zu Beginn definierten Testdaten werden zu Performancemessung verwendet."
   ]
  },
  {
   "cell_type": "code",
   "execution_count": 3,
   "metadata": {},
   "outputs": [
    {
     "name": "stdout",
     "output_type": "stream",
     "text": [
      "Loaded model from disk\n"
     ]
    }
   ],
   "source": [
    "json_file = open('fer.json', 'r')\n",
    "loaded_model_json = json_file.read()\n",
    "json_file.close()\n",
    "loaded_model = model_from_json(loaded_model_json)\n",
    "# load weights into model\n",
    "loaded_model.load_weights(\"fer.h5\")\n",
    "print(\"Loaded model from disk\")"
   ]
  },
  {
   "cell_type": "code",
   "execution_count": 4,
   "metadata": {},
   "outputs": [
    {
     "name": "stdout",
     "output_type": "stream",
     "text": [
      "65.08776818055169\n"
     ]
    }
   ],
   "source": [
    "truey=[]\n",
    "predy=[]\n",
    "x = np.load('./modXtest.npy')\n",
    "y = np.load('./modytest.npy')\n",
    "\n",
    "yhat= loaded_model.predict(x)\n",
    "yh = yhat.tolist()\n",
    "yt = y.tolist()\n",
    "count = 0\n",
    "\n",
    "for i in range(len(y)):\n",
    "    yy = max(yh[i])\n",
    "    yyt = max(yt[i])\n",
    "    predy.append(yh[i].index(yy))\n",
    "    truey.append(yt[i].index(yyt))\n",
    "    if(yh[i].index(yy)== yt[i].index(yyt)):\n",
    "        count+=1\n",
    "\n",
    "acc = (count/len(y))*100\n",
    "print(acc)"
   ]
  },
  {
   "cell_type": "markdown",
   "metadata": {},
   "source": [
    "### Convolution Matrix plotten"
   ]
  },
  {
   "cell_type": "code",
   "execution_count": 39,
   "metadata": {},
   "outputs": [
    {
     "data": {
      "image/png": "[encoded data removed]",
      "text/plain": [
       "<Figure size 432x288 with 2 Axes>"
      ]
     },
     "metadata": {
      "needs_background": "light"
     },
     "output_type": "display_data"
    }
   ],
   "source": [
    "cm = confusion_matrix(truey, predy)\n",
    "labels = ['Angry', 'Disgust', 'Fear', 'Happy', 'Sad', 'Surprise', 'Neutral']\n",
    "title='Confusion matrix'\n",
    "\n",
    "plt.imshow(cm, interpolation='nearest', cmap=plt.cm.Blues)\n",
    "plt.title(title)\n",
    "plt.colorbar()\n",
    "tick_marks = np.arange(len(labels))\n",
    "plt.xticks(tick_marks, labels, rotation=45)\n",
    "plt.yticks(tick_marks, labels)\n",
    "fmt = 'd'\n",
    "thresh = cm.max() / 2.\n",
    "for i, j in itertools.product(range(cm.shape[0]), range(cm.shape[1])):\n",
    "    plt.text(j, i, format(cm[i, j], fmt),\n",
    "            horizontalalignment=\"center\",\n",
    "            color=\"white\" if cm[i, j] > thresh else \"black\")\n",
    "\n",
    "plt.ylabel('True label')\n",
    "plt.xlabel('Predicted label')\n",
    "plt.tight_layout()\n",
    "plt.show()"
   ]
  },
  {
   "cell_type": "code",
   "execution_count": null,
   "metadata": {},
   "outputs": [],
   "source": []
  }
 ],
 "metadata": {
  "kernelspec": {
   "display_name": "Python 3",
   "language": "python",
   "name": "python3"
  },
  "language_info": {
   "codemirror_mode": {
    "name": "ipython",
    "version": 3
   },
   "file_extension": ".py",
   "mimetype": "text/x-python",
   "name": "python",
   "nbconvert_exporter": "python",
   "pygments_lexer": "ipython3",
   "version": "3.8.8"
  }
 },
 "nbformat": 4,
 "nbformat_minor": 2
}
